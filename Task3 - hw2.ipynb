{
 "cells": [
  {
   "cell_type": "code",
   "execution_count": 7,
   "metadata": {
    "collapsed": true
   },
   "outputs": [],
   "source": [
    "from sklearn.base import BaseEstimator\n",
    "from sklearn import datasets\n",
    "from sklearn.tree import DecisionTreeRegressor\n",
    "import numpy as np\n",
    "import matplotlib.pyplot as plt\n",
    "%matplotlib inline"
   ]
  },
  {
   "cell_type": "code",
   "execution_count": 12,
   "metadata": {
    "collapsed": true
   },
   "outputs": [],
   "source": [
    "class DecisionTree(BaseEstimator):\n",
    "    \n",
    "    class Splitter:\n",
    "        def H(self, Q):\n",
    "            return Q.std() ** 2\n",
    "        \n",
    "        def __init__(self, X_data, y_data):\n",
    "            n = X_data.shape[0]\n",
    "            best_split_val = None\n",
    "            best_split_ind = (None, None)\n",
    "            self.best_split = (0, 0)\n",
    "#             print(X_data.shape)\n",
    "            # Перебираем признак, по которому будем разбивать\n",
    "            for i in range(X_data.shape[1]):\n",
    "                indices = np.argsort(X_data[:, i])\n",
    "                for j in range(1, X_data.shape[0]):\n",
    "                    cur_split_val = j / n * self.H(y_data[indices[:j]]) + \\\n",
    "                              (n - j) / n * self.H(y_data[indices[j:]])\n",
    "#                     print (cur_split_val)\n",
    "                    if best_split_val is None or cur_split_val < best_split_val:\n",
    "                        best_split_val = cur_split_val\n",
    "                        best_split_ind = (indices[:j], indices[j:])\n",
    "                        self.best_split = (i, X_data[indices[j]][i])\n",
    "            self.l_d, self.r_d = X_data[best_split_ind[0]], X_data[best_split_ind[1]]\n",
    "            self.l_t, self.r_t = y_data[best_split_ind[0]], y_data[best_split_ind[1]]\n",
    "#             print(self.best_split)\n",
    "            \n",
    "        def get_best_split_parts(self):\n",
    "            return self.l_d, self.r_d, self.l_t, self.r_t\n",
    "        \n",
    "        def get_best_split(self):\n",
    "            return self.best_split\n",
    "        \n",
    "    def __init__(self, max_depth=5):\n",
    "        self.max_depth=max_depth\n",
    "        self.size = 2**(max_depth + 1) - 1\n",
    "        self.is_leaf = [True] * self.size\n",
    "        self.splitters = [[] for i in range(self.size)]\n",
    "        self.data = [[] for i in range(self.size)]\n",
    "        self.target = [[] for i in range(self.size)]\n",
    "        \n",
    "    def fit(self, X_data, y_data):\n",
    "        X_data = np.array(X_data)\n",
    "        y_data = np.array(y_data)\n",
    "        self.data[0] = X_data\n",
    "        self.target[0] = y_data\n",
    "#         print(self.data)\n",
    "        for i in range(self.size):\n",
    "            if len(self.target[i]) > 1:\n",
    "                self.splitters[i] = self.Splitter(self.data[i], self.target[i])\n",
    "                left_d, right_d, left_t, right_t = self.splitters[i].get_best_split_parts()\n",
    "                if 2 * i + 1 < self.size:\n",
    "                    self.is_leaf[i] = False\n",
    "                    self.data[2 * i + 1] = left_d\n",
    "                    self.target[2 * i + 1] = left_t\n",
    "                    self.data[2 * i + 2] = right_d\n",
    "                    self.target[2 * i + 2] = right_t\n",
    "                else:\n",
    "                    break\n",
    "        \n",
    "        \n",
    "    def predict(self, X_data):\n",
    "        X_data = np.array(X_data)\n",
    "        y_predict = np.zeros(X_data.shape[0])\n",
    "        for i in range(X_data.shape[0]):\n",
    "            cur_v = 0\n",
    "            while True:\n",
    "                if self.is_leaf[cur_v]:\n",
    "                    y_predict[i] = self.target[cur_v].mean()\n",
    "                    break\n",
    "                    \n",
    "                cur_best_split = self.splitters[cur_v].get_best_split()\n",
    "                if X_data[i][cur_best_split[0]] < cur_best_split[1]:\n",
    "                    cur_v = 2 * cur_v + 1\n",
    "                else:\n",
    "                    cur_v = 2 * cur_v + 2\n",
    "        return y_predict"
   ]
  },
  {
   "cell_type": "code",
   "execution_count": 15,
   "metadata": {
    "collapsed": true
   },
   "outputs": [],
   "source": [
    "data = datasets.load_boston()\n",
    "X_train = data.data[:376]\n",
    "y_train = data.target[:376]\n",
    "X_test = data.data[376:]\n",
    "y_test = data.target[376:]"
   ]
  },
  {
   "cell_type": "code",
   "execution_count": 19,
   "metadata": {
    "collapsed": true
   },
   "outputs": [],
   "source": [
    "def test_DT(max_depth):\n",
    "    print(\"-------------------------\\nMAX DEPTH=\", max_depth)\n",
    "    my_cl = DecisionTree(max_depth=max_depth)\n",
    "    my_cl.fit(X_train, y_train)\n",
    "    my_predict = my_cl.predict(X_test)\n",
    "    s1 = (my_predict - y_test).std()\n",
    "    print(\"RMSE with my Decision Tree:\", s1)\n",
    "\n",
    "    sk_cl = DecisionTreeRegressor(max_depth=6)\n",
    "    sk_cl.fit(X_train, y_train)\n",
    "    sk_predict = sk_cl.predict(X_test)\n",
    "    s2 = (sk_predict - y_test).std()\n",
    "    print(\"RMSE with sklearn Decision Tree:\", s2)\n",
    "    \n",
    "    sk_cl = DecisionTreeRegressor(max_depth=6, max_features=1)\n",
    "    sk_cl.fit(X_train, y_train)\n",
    "    sk_predict = sk_cl.predict(X_test)\n",
    "    s3 = (sk_predict - y_test).std()\n",
    "    print(\"RMSE with sklearn Decision Tree, max_features=1:\", s3)\n",
    "    \n",
    "    return s1, s2, s3"
   ]
  },
  {
   "cell_type": "code",
   "execution_count": 22,
   "metadata": {},
   "outputs": [
    {
     "name": "stdout",
     "output_type": "stream",
     "text": [
      "-------------------------\n",
      "MAX DEPTH= 1\n",
      "RMSE with my Decision Tree: 6.29848817251\n",
      "RMSE with sklearn Decision Tree: 4.34509511709\n",
      "RMSE with sklearn Decision Tree, max_features=1: 4.68352741884\n",
      "-------------------------\n",
      "MAX DEPTH= 2\n",
      "RMSE with my Decision Tree: 5.94429556055\n",
      "RMSE with sklearn Decision Tree: 4.29884165443\n",
      "RMSE with sklearn Decision Tree, max_features=1: 4.71168022712\n",
      "-------------------------\n",
      "MAX DEPTH= 3\n",
      "RMSE with my Decision Tree: 5.55656533842\n",
      "RMSE with sklearn Decision Tree: 4.2428296448\n",
      "RMSE with sklearn Decision Tree, max_features=1: 9.41132039243\n",
      "-------------------------\n",
      "MAX DEPTH= 4\n",
      "RMSE with my Decision Tree: 5.46603208182\n",
      "RMSE with sklearn Decision Tree: 4.33993763451\n",
      "RMSE with sklearn Decision Tree, max_features=1: 7.39442393825\n",
      "-------------------------\n",
      "MAX DEPTH= 5\n",
      "RMSE with my Decision Tree: 4.90243844642\n",
      "RMSE with sklearn Decision Tree: 4.33993763451\n",
      "RMSE with sklearn Decision Tree, max_features=1: 6.32873705357\n",
      "-------------------------\n",
      "MAX DEPTH= 6\n",
      "RMSE with my Decision Tree: 4.46873329448\n",
      "RMSE with sklearn Decision Tree: 4.42189805762\n",
      "RMSE with sklearn Decision Tree, max_features=1: 6.4113508423\n",
      "-------------------------\n",
      "MAX DEPTH= 7\n",
      "RMSE with my Decision Tree: 4.53680430043\n",
      "RMSE with sklearn Decision Tree: 4.2428296448\n",
      "RMSE with sklearn Decision Tree, max_features=1: 13.198621779\n"
     ]
    }
   ],
   "source": [
    "my_rmse = []\n",
    "sk1_rmse = []\n",
    "sk2_rmse = []\n",
    "for max_depth in range(1, 8):\n",
    "    rmses = test_DT(max_depth)\n",
    "    \n",
    "    my_rmse.append(rmses[0])\n",
    "    sk1_rmse.append(rmses[1])\n",
    "    sk2_rmse.append(rmses[2])"
   ]
  },
  {
   "cell_type": "code",
   "execution_count": 23,
   "metadata": {},
   "outputs": [
    {
     "data": {
      "image/png": "[encoded data removed]",
      "text/plain": [
       "<matplotlib.figure.Figure at 0x7fb809530ef0>"
      ]
     },
     "metadata": {},
     "output_type": "display_data"
    }
   ],
   "source": [
    "plt.plot(range(1, 8), my_rmse, label='My DT')\n",
    "plt.plot(range(1, 8), sk1_rmse, label='Sklearn DT')\n",
    "plt.plot(range(1, 8), sk2_rmse, label='Sklearn DT, max_features=1')\n",
    "plt.xlabel('max_depth')\n",
    "plt.ylabel('RMSE')\n",
    "plt.legend(loc='upper right')\n",
    "plt.show()"
   ]
  }
 ],
 "metadata": {
  "kernelspec": {
   "display_name": "Python 3",
   "language": "python",
   "name": "python3"
  },
  "language_info": {
   "codemirror_mode": {
    "name": "ipython",
    "version": 3
   },
   "file_extension": ".py",
   "mimetype": "text/x-python",
   "name": "python",
   "nbconvert_exporter": "python",
   "pygments_lexer": "ipython3",
   "version": "3.6.1"
  }
 },
 "nbformat": 4,
 "nbformat_minor": 2
}
